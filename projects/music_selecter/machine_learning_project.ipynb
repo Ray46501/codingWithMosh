{
 "cells": [
  {
   "cell_type": "code",
   "execution_count": 1,
   "id": "54dbc4f5-b63e-43ab-abde-f6916277ffbd",
   "metadata": {},
   "outputs": [],
   "source": [
    "import pandas as pd\n",
    "from sklearn.tree import DecisionTreeClassifier\n",
    "from sklearn import tree\n",
    "\n",
    "data = pd.read_csv(\"music.csv\")\n",
    "X = data.drop(columns=[\"genre\"])\n",
    "y = data[\"genre\"]\n",
    "\n",
    "model = DecisionTreeClassifier()\n",
    "model.fit(X,y)\n",
    "\n",
    "tree.export_graphviz(model, out_file=\"music_recommender.dot\", \n",
    "                     feature_names=[\"age\",\"gender\"], \n",
    "                     class_names=sorted(y.unique()),\n",
    "                     label=\"all\",\n",
    "                     rounded=True,\n",
    "                     filled=True,\n",
    "                    )"
   ]
  },
  {
   "cell_type": "code",
   "execution_count": null,
   "id": "249eada0-0d5b-4bf6-84ed-1d01be22934b",
   "metadata": {},
   "outputs": [],
   "source": []
  },
  {
   "cell_type": "code",
   "execution_count": null,
   "id": "804e21b8-3092-4c3f-8872-5be59495dced",
   "metadata": {},
   "outputs": [],
   "source": []
  },
  {
   "cell_type": "code",
   "execution_count": null,
   "id": "39334e89-5269-4cc9-95bc-53e3e6b9c1e0",
   "metadata": {},
   "outputs": [],
   "source": []
  }
 ],
 "metadata": {
  "kernelspec": {
   "display_name": "Python 3 (ipykernel)",
   "language": "python",
   "name": "python3"
  },
  "language_info": {
   "codemirror_mode": {
    "name": "ipython",
    "version": 3
   },
   "file_extension": ".py",
   "mimetype": "text/x-python",
   "name": "python",
   "nbconvert_exporter": "python",
   "pygments_lexer": "ipython3",
   "version": "3.11.7"
  }
 },
 "nbformat": 4,
 "nbformat_minor": 5
}
